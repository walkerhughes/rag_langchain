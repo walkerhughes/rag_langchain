{
 "cells": [
  {
   "cell_type": "code",
   "execution_count": 2,
   "metadata": {
    "id": "Vj-XpOpIp2mS"
   },
   "outputs": [],
   "source": [
    "from langchain.document_loaders import YoutubeLoader\n",
    "from langchain.text_splitter import RecursiveCharacterTextSplitter\n",
    "from langchain_openai import OpenAIEmbeddings\n",
    "from langchain.vectorstores import FAISS\n",
    "from langchain_openai import ChatOpenAI\n",
    "from langchain.chains import LLMChain\n",
    "from langchain.prompts.chat import (\n",
    "    ChatPromptTemplate,\n",
    "    SystemMessagePromptTemplate,\n",
    "    HumanMessagePromptTemplate\n",
    ")\n",
    "\n",
    "import textwrap\n",
    "\n",
    "OPEN_AI_API_KEY = \"\""
   ]
  },
  {
   "cell_type": "code",
   "execution_count": 3,
   "metadata": {
    "id": "knETAy-BQInA"
   },
   "outputs": [],
   "source": [
    "all_in_video_urls = [\n",
    "    \"https://www.youtube.com/watch?v=SoTOF-plFwc\"\n",
    "]"
   ]
  },
  {
   "cell_type": "code",
   "execution_count": 4,
   "metadata": {
    "id": "9R9LJ3Nb7cHp"
   },
   "outputs": [],
   "source": [
    "class YoutubeVideoGPT:\n",
    "    \"\"\"\n",
    "    class for querying youtube video transcripts with gpt 3.5 turbo using langchain\n",
    "\n",
    "    all user inputs are specified when instantiating the class with a list of video url's\n",
    "\n",
    "    users can then use the .answer_query method to ask questions\n",
    "    \"\"\"\n",
    "    def __init__(self, video_urls: list = []):\n",
    "\n",
    "        self.video_urls = video_urls\n",
    "        self.final_docs = []\n",
    "        self.embeddings = OpenAIEmbeddings(openai_api_key=OPEN_AI_API_KEY)\n",
    "        self.db = self.create_db_from_video_urls(self.video_urls)\n",
    "\n",
    "        self.system_template = \"\"\"\n",
    "            You are a helpful assistant answering questions about youtube videos based on their transcripts: {docs}\n",
    "\n",
    "            Only use factual information from the transcipt to answer the question. The answers you provide should be detailed but concise, \\\n",
    "            and understandable by someone who has not watched the Youtube video or read the transcript.\n",
    "\n",
    "            If you feel like you don't have enought information to answer the question, \\\n",
    "            repond with 'I don't have sufficient information to answer this question at the moment based on the transcript of this video alone.'\n",
    "        \"\"\"\n",
    "\n",
    "        self.human_template = \"Answer the following question: {question}\"\n",
    "\n",
    "    def create_db_from_video_urls(self, video_urls: list = []):\n",
    "\n",
    "        for video_url in video_urls:\n",
    "            try:\n",
    "                loader = YoutubeLoader.from_youtube_url(video_url)\n",
    "                transcript = loader.load()\n",
    "                text_splitter = RecursiveCharacterTextSplitter(chunk_size=1000, chunk_overlap=100)\n",
    "                docs = text_splitter.split_documents(transcript)\n",
    "                for _ in docs:\n",
    "                    self.final_docs.append(_)\n",
    "            except:\n",
    "                continue\n",
    "\n",
    "        db = FAISS.from_documents(self.final_docs, self.embeddings)\n",
    "        return db\n",
    "\n",
    "    def print_response(self, response: str):\n",
    "        print(textwrap.fill(response, width=75))\n",
    "\n",
    "    def answer_query(self, query: str, k: int = 4):\n",
    "\n",
    "        def document_similarity_search(query: str = \"\", k: int = 4):\n",
    "            docs = self.db.similarity_search(query, k=k)\n",
    "            docs_page_content = \" \".join([d.page_content for d in docs])\n",
    "            return docs_page_content\n",
    "\n",
    "        chat = ChatOpenAI(\n",
    "            openai_api_key=OPEN_AI_API_KEY,\n",
    "            model_name=\"gpt-3.5-turbo\",\n",
    "            temperature=0.2\n",
    "        )\n",
    "        chat_prompt = ChatPromptTemplate.from_messages([\n",
    "            SystemMessagePromptTemplate.from_template(self.system_template),\n",
    "            HumanMessagePromptTemplate.from_template(self.human_template)\n",
    "        ])\n",
    "\n",
    "        docs_page_content = document_similarity_search(query = query, k = k)\n",
    "\n",
    "        chain = LLMChain(llm=chat, prompt=chat_prompt)\n",
    "        response = chain.run(question=query, docs=docs_page_content).replace(\"\\n\", \" \")\n",
    "        self.response = response\n",
    "        self.print_response(response = self.response)\n"
   ]
  },
  {
   "cell_type": "code",
   "execution_count": 5,
   "metadata": {
    "id": "J3uUHEF5VhUV"
   },
   "outputs": [],
   "source": [
    "query_bot = YoutubeVideoGPT(video_urls=all_in_video_urls)"
   ]
  },
  {
   "cell_type": "code",
   "execution_count": 9,
   "metadata": {
    "colab": {
     "base_uri": "https://localhost:8080/"
    },
    "id": "tHVkuPEFV4uT",
    "outputId": "a8c719d5-12be-4d62-ed21-1643041f6282"
   },
   "outputs": [
    {
     "name": "stdout",
     "output_type": "stream",
     "text": [
      "The speakers in the transcript discuss Tucker Carlson's interview with\n",
      "Vladimir Putin. They mention that Tucker Carlson could have done better in\n",
      "the interview, but overall it wasn't bad considering the circumstances.\n",
      "They highlight that it's challenging for any journalist to extract valuable\n",
      "information from Putin, especially when the interviewer, like Tucker, is\n",
      "sympathetic towards Russia. The speakers note that Tucker asked some\n",
      "softball questions and lost control of the interview early on. They also\n",
      "mention that despite Putin extending an olive branch in the interview, the\n",
      "Biden Administration still rejects negotiations with Russia. Overall, they\n",
      "express disappointment in how American-Russian relations have been handled\n",
      "over the years, turning a potential ally into an enemy.\n"
     ]
    }
   ],
   "source": [
    "query_bot.answer_query(query = \"What do they say about Tucker's interview with Putin?\")"
   ]
  },
  {
   "cell_type": "code",
   "execution_count": 10,
   "metadata": {
    "colab": {
     "base_uri": "https://localhost:8080/"
    },
    "id": "FZeGvR-OWxiN",
    "outputId": "e10c337f-ff1e-4693-a792-6327a5f4972c"
   },
   "outputs": [
    {
     "name": "stdout",
     "output_type": "stream",
     "text": [
      "The mishandling of American-Russian relations over the past 25 years was\n",
      "highlighted in the transcript through the rejection of negotiations with\n",
      "Russia despite Putin's offer, the turning of a potential ally into an\n",
      "enemy, and the failure to heed warnings from respected diplomats like\n",
      "George Kennan and Bill Burns. The decision to expand NATO, breaking\n",
      "promises made to Russia, was emphasized as a key turning point that\n",
      "exacerbated tensions and led to the deterioration of relations. These\n",
      "actions were seen as detrimental to Russian democracy, inflaming\n",
      "nationalist and anti-western sentiments, and reigniting Cold War dynamics.\n"
     ]
    }
   ],
   "source": [
    "query_bot.answer_query(query = \"What were more specific details about the mishandling of American-Russian relations over the past 25 years that were stated?\")"
   ]
  },
  {
   "cell_type": "code",
   "execution_count": 11,
   "metadata": {
    "colab": {
     "base_uri": "https://localhost:8080/"
    },
    "id": "WMCKlGpVFfGK",
    "outputId": "0859e02b-0d28-469d-c326-60381aeb0db3"
   },
   "outputs": [
    {
     "name": "stdout",
     "output_type": "stream",
     "text": [
      "In 1999, during a meeting with Bill Clinton, Putin asked if Russia could\n",
      "join NATO. Clinton initially agreed to discuss the details over dinner, but\n",
      "later during the dinner, Clinton's team informed Putin that the answer was\n",
      "no. This moment is seen as significant because it sheds light on the\n",
      "challenges Russia faced during its transition to democracy and the emotions\n",
      "that may have influenced Putin's actions since then. Putin's offer to join\n",
      "NATO was ultimately rebuffed, leading to potential underlying tensions that\n",
      "have shaped Russia's relationship with the West.\n"
     ]
    }
   ],
   "source": [
    "query_bot.answer_query(query = \"Describe the circumstances under which Putin asked Bill Clinton if Russia could join NATO.\")"
   ]
  },
  {
   "cell_type": "code",
   "execution_count": 8,
   "metadata": {
    "id": "edvbuGgiFtyD"
   },
   "outputs": [],
   "source": []
  }
 ],
 "metadata": {
  "colab": {
   "provenance": []
  },
  "kernelspec": {
   "display_name": "Python 3",
   "language": "python",
   "name": "python3"
  },
  "language_info": {
   "codemirror_mode": {
    "name": "ipython",
    "version": 3
   },
   "file_extension": ".py",
   "mimetype": "text/x-python",
   "name": "python",
   "nbconvert_exporter": "python",
   "pygments_lexer": "ipython3",
   "version": "3.7.3"
  }
 },
 "nbformat": 4,
 "nbformat_minor": 1
}
